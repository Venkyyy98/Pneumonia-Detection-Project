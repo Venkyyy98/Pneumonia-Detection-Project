{
 "cells": [
  {
   "cell_type": "code",
   "execution_count": 12,
   "id": "95998baa-df77-41f4-bf66-1ed804ed76da",
   "metadata": {},
   "outputs": [],
   "source": [
    "# Importing Libraries for Data Augmentation\n",
    "import os\n",
    "from PIL import Image, ImageEnhance, ImageOps\n",
    "import random\n",
    "import numpy as np"
   ]
  },
  {
   "cell_type": "code",
   "execution_count": 2,
   "id": "aec2bc21-81fe-4214-be22-dd8d9747e429",
   "metadata": {},
   "outputs": [
    {
     "name": "stdout",
     "output_type": "stream",
     "text": [
      "Done!\n"
     ]
    }
   ],
   "source": [
    "# Defining a function for adjusting brightness\n",
    "def augment_brightness(input_dir, output_dir, target_count=1000):\n",
    "    os.makedirs(output_dir, exist_ok=True)\n",
    "    images = os.listdir(input_dir)\n",
    "    \n",
    "    for i in range(target_count):\n",
    "        img_name = random.choice(images)  # This will randomly select an image\n",
    "        img_path = os.path.join(input_dir, img_name)\n",
    "        img = Image.open(img_path)\n",
    "        \n",
    "        # Adjusting brightness with a random factor between 0.5 and 1.5\n",
    "        enhancer = ImageEnhance.Brightness(img)\n",
    "        brightness_factor = random.uniform(0.5, 1.5)\n",
    "        augmented_img = enhancer.enhance(brightness_factor)\n",
    "        \n",
    "        # Saving augmented image\n",
    "        augmented_img.save(os.path.join(output_dir, f'brightness_{i}_{img_name}'))\n",
    "\n",
    "# From and to\n",
    "augment_brightness('Pneumonia', 'Brightness_Pneumonia')\n",
    "augment_brightness('Normal', 'Brightness_Normal')\n",
    "\n",
    "print(\"Done!\")"
   ]
  },
  {
   "cell_type": "code",
   "execution_count": 3,
   "id": "86884199-a083-4e79-8721-484cc116ac57",
   "metadata": {},
   "outputs": [
    {
     "name": "stdout",
     "output_type": "stream",
     "text": [
      "Done!\n"
     ]
    }
   ],
   "source": [
    "# Defining a function for adjusting contrast\n",
    "def augment_contrast(input_dir, output_dir, target_count=1000):\n",
    "    os.makedirs(output_dir, exist_ok=True)\n",
    "    images = os.listdir(input_dir)\n",
    "    \n",
    "    for i in range(target_count):\n",
    "        img_name = random.choice(images)  # This will randomly select an image\n",
    "        img_path = os.path.join(input_dir, img_name)\n",
    "        img = Image.open(img_path)\n",
    "        \n",
    "        # Adjusting contrast with a random factor between 0.5 and 1.5\n",
    "        enhancer = ImageEnhance.Contrast(img)\n",
    "        contrast_factor = random.uniform(0.5, 1.5)\n",
    "        augmented_img = enhancer.enhance(contrast_factor)\n",
    "        \n",
    "        # Saving augmented image\n",
    "        augmented_img.save(os.path.join(output_dir, f'contrast_{i}_{img_name}'))\n",
    "\n",
    "# From and to\n",
    "augment_contrast('Pneumonia', 'Contrast_Pneumonia')\n",
    "augment_contrast('Normal', 'Contrast_Normal')\n",
    "\n",
    "print(\"Done!\")"
   ]
  },
  {
   "cell_type": "code",
   "execution_count": 6,
   "id": "2eb89183-e8b6-4b59-b5e1-d8ae96586d5a",
   "metadata": {},
   "outputs": [
    {
     "name": "stdout",
     "output_type": "stream",
     "text": [
      "Done!\n"
     ]
    }
   ],
   "source": [
    "# Defining a function for adding noise\n",
    "def add_noise(image, mean=0, std=25):\n",
    "    # Converting the image to numpy array\n",
    "    img_array = np.array(image)\n",
    "    # Generating Gaussian noise\n",
    "    noise = np.random.normal(mean, std, img_array.shape)\n",
    "    \n",
    "    # Adding noise and clip to valid pixel range (0 to 255)\n",
    "    noisy_img_array = np.clip(img_array + noise, 0, 255).astype(np.uint8)\n",
    "    \n",
    "    # Converting back to PIL image\n",
    "    noisy_image = Image.fromarray(noisy_img_array)\n",
    "    return noisy_image\n",
    "\n",
    "def augment_with_noise(input_dir, output_dir, target_count=1000, mean=0, std=25):\n",
    "    os.makedirs(output_dir, exist_ok=True)\n",
    "    images = os.listdir(input_dir)\n",
    "    \n",
    "    for i in range(target_count):\n",
    "        img_name = random.choice(images)  # This will randomly select an image\n",
    "        img_path = os.path.join(input_dir, img_name)\n",
    "        img = Image.open(img_path).convert(\"L\")  # This will convert to grayscale\n",
    "        \n",
    "        # Adding Gaussian noise\n",
    "        noisy_img = add_noise(img, mean, std)\n",
    "        \n",
    "        # Saving augmented image\n",
    "        noisy_img.save(os.path.join(output_dir, f'noisy_{i}_{img_name}'))\n",
    "\n",
    "# From and to\n",
    "augment_with_noise('Pneumonia', 'Noisy_Pneumonia')\n",
    "augment_with_noise('Normal', 'Noisy_Normal')\n",
    "\n",
    "print(\"Done!\")"
   ]
  },
  {
   "cell_type": "code",
   "execution_count": 7,
   "id": "267b730a-cfec-4d68-85c1-2b4070478973",
   "metadata": {},
   "outputs": [
    {
     "name": "stdout",
     "output_type": "stream",
     "text": [
      "Done!\n"
     ]
    }
   ],
   "source": [
    "# Defining a function for rotating the image\n",
    "def augment_with_rotation(input_dir, output_dir, target_count=1000, max_angle=45):\n",
    "    os.makedirs(output_dir, exist_ok=True)\n",
    "    images = os.listdir(input_dir)\n",
    "    \n",
    "    for i in range(target_count):\n",
    "        img_name = random.choice(images)  # This will randomly select an image\n",
    "        img_path = os.path.join(input_dir, img_name)\n",
    "        img = Image.open(img_path)\n",
    "        \n",
    "        # Rotating the image by a random angle within ±max_angle\n",
    "        angle = random.uniform(-max_angle, max_angle)\n",
    "        rotated_img = img.rotate(angle, resample=Image.BILINEAR)\n",
    "        \n",
    "        # Saving rotated image\n",
    "        rotated_img.save(os.path.join(output_dir, f'rotated_{i}_{img_name}'))\n",
    "\n",
    "# From and to\n",
    "augment_with_rotation('Pneumonia', 'Rotated_Pneumonia')\n",
    "augment_with_rotation('Normal', 'Rotated_Normal')\n",
    "\n",
    "print(\"Done!\")"
   ]
  },
  {
   "cell_type": "code",
   "execution_count": 11,
   "id": "4f5ba6f3-3019-40c0-877d-743eee721ad9",
   "metadata": {},
   "outputs": [
    {
     "name": "stdout",
     "output_type": "stream",
     "text": [
      "Done!\n"
     ]
    }
   ],
   "source": [
    "# Defining a function for flipping the image\n",
    "def augment_with_flip(input_dir, output_dir, target_count=1000):\n",
    "    os.makedirs(output_dir, exist_ok=True)\n",
    "    images = os.listdir(input_dir)\n",
    "    \n",
    "    for i in range(target_count):\n",
    "        img_name = random.choice(images)  # This will randomly select an image\n",
    "        img_path = os.path.join(input_dir, img_name)\n",
    "        img = Image.open(img_path)\n",
    "        \n",
    "        # Randomly choosing to flip horizontally, vertically, or both\n",
    "        flip_type = random.choice([\"horizontal\", \"vertical\", \"both\", \"none\"])\n",
    "        if flip_type == \"horizontal\":\n",
    "            flipped_img = ImageOps.mirror(img)\n",
    "        elif flip_type == \"vertical\":\n",
    "            flipped_img = ImageOps.flip(img)\n",
    "        elif flip_type == \"both\":\n",
    "            flipped_img = ImageOps.flip(ImageOps.mirror(img))\n",
    "        else:\n",
    "            flipped_img = img  # No flip\n",
    "\n",
    "        # Saving flipped image\n",
    "        flipped_img.save(os.path.join(output_dir, f'flipped_{i}_{img_name}'))\n",
    "\n",
    "# From and to\n",
    "augment_with_flip('Pneumonia', 'Flipped_Pneumonia')\n",
    "augment_with_flip('Normal', 'Flipped_Normal')\n",
    "\n",
    "print(\"Done!\")"
   ]
  }
 ],
 "metadata": {
  "kernelspec": {
   "display_name": "Python 3 (ipykernel)",
   "language": "python",
   "name": "python3"
  },
  "language_info": {
   "codemirror_mode": {
    "name": "ipython",
    "version": 3
   },
   "file_extension": ".py",
   "mimetype": "text/x-python",
   "name": "python",
   "nbconvert_exporter": "python",
   "pygments_lexer": "ipython3",
   "version": "3.11.7"
  }
 },
 "nbformat": 4,
 "nbformat_minor": 5
}
