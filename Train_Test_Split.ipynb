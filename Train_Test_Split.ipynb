{
 "cells": [
  {
   "cell_type": "code",
   "execution_count": 1,
   "id": "dd963483-e90d-4f3a-9c4b-af69897f7d81",
   "metadata": {},
   "outputs": [
    {
     "name": "stdout",
     "output_type": "stream",
     "text": [
      "Done!\n"
     ]
    }
   ],
   "source": [
    "import os\n",
    "import shutil\n",
    "import random\n",
    "\n",
    "# Defining paths of directories\n",
    "pneumonia_folder = 'Pneumonia_Final'\n",
    "normal_folder = 'Normal_Final'\n",
    "output_dirs = ['Train_Pneumonia', 'Train_Normal', 'Test_Pneumonia', 'Test_Normal']\n",
    "\n",
    "# Creating directories if they don't exist\n",
    "for dir_name in output_dirs:\n",
    "    if not os.path.exists(dir_name):\n",
    "        os.makedirs(dir_name)\n",
    "\n",
    "# Parameters\n",
    "train_ratio = 0.85\n",
    "\n",
    "# Defining function to split and move files\n",
    "def split_and_copy_files(src_folder, train_folder, test_folder, train_ratio):\n",
    "    files = os.listdir(src_folder)\n",
    "    random.shuffle(files)\n",
    "    \n",
    "    train_count = int(len(files) * train_ratio)\n",
    "    train_files = files[:train_count]\n",
    "    test_files = files[train_count:]\n",
    "    \n",
    "    for file in train_files:\n",
    "        shutil.copy(os.path.join(src_folder, file), os.path.join(train_folder, file))\n",
    "    for file in test_files:\n",
    "        shutil.copy(os.path.join(src_folder, file), os.path.join(test_folder, file))\n",
    "\n",
    "# Splitting and copying files for Pneumonia and Normal categories\n",
    "split_and_copy_files(pneumonia_folder, 'Train_Pneumonia', 'Test_Pneumonia', train_ratio)\n",
    "split_and_copy_files(normal_folder, 'Train_Normal', 'Test_Normal', train_ratio)\n",
    "\n",
    "print(\"Done!\")"
   ]
  },
  {
   "cell_type": "code",
   "execution_count": null,
   "id": "45bee0c9-f93a-4515-aed8-cbb877586a3e",
   "metadata": {},
   "outputs": [],
   "source": []
  }
 ],
 "metadata": {
  "kernelspec": {
   "display_name": "Python 3 (ipykernel)",
   "language": "python",
   "name": "python3"
  },
  "language_info": {
   "codemirror_mode": {
    "name": "ipython",
    "version": 3
   },
   "file_extension": ".py",
   "mimetype": "text/x-python",
   "name": "python",
   "nbconvert_exporter": "python",
   "pygments_lexer": "ipython3",
   "version": "3.11.7"
  }
 },
 "nbformat": 4,
 "nbformat_minor": 5
}
