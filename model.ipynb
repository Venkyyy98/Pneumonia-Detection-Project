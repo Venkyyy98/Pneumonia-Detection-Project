git init
git remote add origin https://github.com/your-username/PneumoniaDetectionProject.git
